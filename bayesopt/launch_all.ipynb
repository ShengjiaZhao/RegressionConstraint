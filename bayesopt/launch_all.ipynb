{
 "cells": [
  {
   "cell_type": "code",
   "execution_count": 23,
   "metadata": {},
   "outputs": [],
   "source": [
    "import os\n",
    "import time"
   ]
  },
  {
   "cell_type": "code",
   "execution_count": 24,
   "metadata": {},
   "outputs": [],
   "source": [
    "template = r\"\"\"#!/bin/sh\n",
    "#SBATCH --partition=atlas \n",
    "\n",
    "#SBATCH --time=64:00:00\n",
    "#SBATCH --cpus-per-task=4\n",
    "#SBATCH --mem=24G\n",
    "#SBATCH --nodes=1\n",
    "#SBATCH --gres=gpu:1\n",
    "\n",
    "#SBATCH --job-name=\"bo\"\n",
    "#SBATCH --output=run_log/bo-%s.out\n",
    "#SBATCH --exclude=atlas6,atlas1,atlas2,atlas3,atlas5,atlas4,atlas13\n",
    "\n",
    "nvidia-smi\n",
    ". /atlas/u/chenlin/miniconda3/bin/activate\n",
    "\n",
    "\n",
    "papermill bayesopt.ipynb - -p log_root log -p run_label %d -p dataset %s -p re_calib %r -p re_bias_y %r\n",
    "\"\"\""
   ]
  },
  {
   "cell_type": "code",
   "execution_count": 53,
   "metadata": {},
   "outputs": [],
   "source": [
    "# dataset = \"branin\"\n",
    "dataset = \"ackley\""
   ]
  },
  {
   "cell_type": "code",
   "execution_count": 54,
   "metadata": {},
   "outputs": [
    {
     "name": "stdout",
     "output_type": "stream",
     "text": [
      "0\n",
      "0\n",
      "0\n",
      "0\n",
      "0\n"
     ]
    }
   ],
   "source": [
    "\n",
    "\n",
    "for run_label in range(5):\n",
    "    writer = open('script.sh', 'w')\n",
    "    writer.write(template % ('%j', run_label, dataset, False, False))\n",
    "    output = os.system('sbatch script.sh')\n",
    "    print(output)\n",
    "    time.sleep(10)"
   ]
  },
  {
   "cell_type": "code",
   "execution_count": 55,
   "metadata": {},
   "outputs": [
    {
     "name": "stdout",
     "output_type": "stream",
     "text": [
      "0\n",
      "0\n",
      "0\n",
      "0\n",
      "0\n"
     ]
    }
   ],
   "source": [
    "for run_label in range(5):\n",
    "    writer = open('script.sh', 'w')\n",
    "    writer.write(template % ('%j', run_label, dataset, False, True))\n",
    "    output = os.system('sbatch script.sh')\n",
    "    print(output)\n",
    "    time.sleep(10)"
   ]
  },
  {
   "cell_type": "code",
   "execution_count": 56,
   "metadata": {},
   "outputs": [
    {
     "name": "stdout",
     "output_type": "stream",
     "text": [
      "0\n",
      "0\n",
      "0\n",
      "0\n",
      "0\n"
     ]
    }
   ],
   "source": [
    "for run_label in range(5):\n",
    "    writer = open('script.sh', 'w')\n",
    "    writer.write(template % ('%j', run_label, dataset, True, False))\n",
    "    output = os.system('sbatch script.sh')\n",
    "    print(output)\n",
    "    time.sleep(10)"
   ]
  },
  {
   "cell_type": "code",
   "execution_count": null,
   "metadata": {},
   "outputs": [],
   "source": [
    "gpu=0\n",
    "re_calib=False\n",
    "re_bias_y=False\n",
    "dataset='ackley'\n",
    "log_root='int_log'\n",
    "model='small'\n",
    "run_label=0"
   ]
  },
  {
   "cell_type": "code",
   "execution_count": 15,
   "metadata": {},
   "outputs": [
    {
     "data": {
      "text/plain": [
       "'0.22.2.post1'"
      ]
     },
     "execution_count": 15,
     "metadata": {},
     "output_type": "execute_result"
    }
   ],
   "source": [
    "import sklearn\n",
    "sklearn.__version__"
   ]
  },
  {
   "cell_type": "code",
   "execution_count": null,
   "metadata": {},
   "outputs": [],
   "source": []
  }
 ],
 "metadata": {
  "kernelspec": {
   "display_name": "Python 3",
   "language": "python",
   "name": "python3"
  },
  "language_info": {
   "codemirror_mode": {
    "name": "ipython",
    "version": 3
   },
   "file_extension": ".py",
   "mimetype": "text/x-python",
   "name": "python",
   "nbconvert_exporter": "python",
   "pygments_lexer": "ipython3",
   "version": "3.5.2"
  }
 },
 "nbformat": 4,
 "nbformat_minor": 4
}
