{
 "cells": [
  {
   "cell_type": "code",
   "execution_count": 1,
   "metadata": {},
   "outputs": [],
   "source": [
    "# Imports\n",
    "\n",
    "from argparse import Namespace\n",
    "import pickle\n",
    "from pathlib import Path\n",
    "import numpy as np\n",
    "\n",
    "from probo import NelderMeadAcqOptimizer, SimpleBo\n",
    "from ackley import Ackley\n",
    "from penn_sklearn import SklearnPenn"
   ]
  },
  {
   "cell_type": "code",
   "execution_count": 2,
   "metadata": {},
   "outputs": [],
   "source": [
    "# Set seed\n",
    "\n",
    "seed = 11\n",
    "np.random.seed(seed)"
   ]
  },
  {
   "cell_type": "code",
   "execution_count": 3,
   "metadata": {},
   "outputs": [
    {
     "name": "stdout",
     "output_type": "stream",
     "text": [
      "*[INFO] Model=SklearnPenn with params=Namespace(alpha=0.01, hls=(20, 30, 40), max_iter=500, n_ensemble=5, trans_x=False)\n",
      "*[INFO] RealDomain with params=Namespace(dom_str='real', min_max=[[-1, 1], [-1, 1], [-1, 1], [-1, 1], [-1, 1], [-1, 1], [-1, 1], [-1, 1], [-1, 1], [-1, 1]])\n",
      "*[INFO] NelderMeadAcqOptimizer with params=Namespace(domain_params=Namespace(dom_str='real', min_max=[[-1, 1], [-1, 1], [-1, 1], [-1, 1], [-1, 1], [-1, 1], [-1, 1], [-1, 1], [-1, 1], [-1, 1]]), init_str='bsf', jitter=True, jitter_val=0.1, k=2, max_iter=200, n_init_rs=0, n_rand=1, rand_every=10, rhobeg=0.5)\n",
      "*[INFO] AcqFunction with params=Namespace(acq_str='ts', n_gen=500, trans_str='')\n",
      "*[INFO] AcqOptDesigner with params=Namespace(n_rep=1, seed=11)\n",
      "*[INFO] SimpleBo with params=Namespace(n_iter=3, print_x_str_len=30, reinit_designer=False, seed=11)\n",
      "*[INFO] SimpleBo initialized with 80 observations\n"
     ]
    }
   ],
   "source": [
    "# BO Setup\n",
    "\n",
    "# define function\n",
    "n_dim = 10\n",
    "f = Ackley(n_dim)\n",
    "\n",
    "# define model\n",
    "model = SklearnPenn()\n",
    "\n",
    "# define acqfunction\n",
    "acqfunction = {'acq_str': 'ts', 'n_gen': 500}\n",
    "\n",
    "# define acqoptimizer\n",
    "domain = f.get_domain()\n",
    "acqoptimizer = NelderMeadAcqOptimizer({'rand_every': 10, 'max_iter': 200, 'jitter': True}, domain)\n",
    "\n",
    "# define initial dataset\n",
    "n_init = 80\n",
    "data = Namespace()\n",
    "data.x = domain.unif_rand_sample(n_init)\n",
    "data.y = [f(x) for x in data.x]\n",
    "\n",
    "# define BO\n",
    "n_iter = 3\n",
    "bo = SimpleBo(f, model, acqfunction, acqoptimizer, data=data, params={'n_iter': n_iter}, seed=seed)"
   ]
  },
  {
   "cell_type": "code",
   "execution_count": 4,
   "metadata": {},
   "outputs": [
    {
     "name": "stdout",
     "output_type": "stream",
     "text": [
      "*[KEY] i: iteration, x: design, y: objective, min_y: minimum objective so far (* indicates a new min_y)\n",
      "i: 0,    x: [-0.01532587707050702, -0.4092.. \ty: 14.5653,\tmin_y: 11.3729 \n",
      "i: 1,    x: [-0.9762292667700637, -0.35882.. \ty: 11.2459,\tmin_y: 11.2459 *\n",
      "i: 2,    x: [-1.0, -0.2843369365743596, -0.. \ty: 10.8346,\tmin_y: 10.8346 *\n",
      "Minimum y = 10.834559311840747\n",
      "Minimizer x = [-1.0, -0.2843369365743596, -0.358911111137036, 0.3857488300880684, 0.3308239776846102, -0.07510280362470115, -0.5673845611030341, -0.6101462744996327, -0.8874529462644731, -0.196990585675464]\n",
      "Found at i = 2\n"
     ]
    }
   ],
   "source": [
    "# Run BO\n",
    "\n",
    "results = bo.run()"
   ]
  },
  {
   "cell_type": "code",
   "execution_count": 5,
   "metadata": {},
   "outputs": [],
   "source": [
    "# Save results\n",
    "\n",
    "save_dir = Path(f'results/ackley{n_dim}_{seed}')\n",
    "save_dir.mkdir(parents=True, exist_ok=True)\n",
    "\n",
    "with open(save_dir / \"results.pkl\", \"wb\") as handle:\n",
    "    pickle.dump(results, handle, protocol=pickle.HIGHEST_PROTOCOL)"
   ]
  },
  {
   "cell_type": "code",
   "execution_count": null,
   "metadata": {},
   "outputs": [],
   "source": []
  }
 ],
 "metadata": {
  "kernelspec": {
   "display_name": "Python 3",
   "language": "python",
   "name": "python3"
  },
  "language_info": {
   "codemirror_mode": {
    "name": "ipython",
    "version": 3
   },
   "file_extension": ".py",
   "mimetype": "text/x-python",
   "name": "python",
   "nbconvert_exporter": "python",
   "pygments_lexer": "ipython3",
   "version": "3.7.4"
  }
 },
 "nbformat": 4,
 "nbformat_minor": 4
}
