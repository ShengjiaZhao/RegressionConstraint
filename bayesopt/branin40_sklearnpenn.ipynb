{
 "cells": [
  {
   "cell_type": "code",
   "execution_count": 1,
   "metadata": {},
   "outputs": [],
   "source": [
    "# Imports\n",
    "\n",
    "from argparse import Namespace\n",
    "import pickle\n",
    "from pathlib import Path\n",
    "import numpy as np\n",
    "\n",
    "from probo import NelderMeadAcqOptimizer, SimpleBo\n",
    "from branin import branin, get_branin_domain_nd\n",
    "from penn_sklearn import SklearnPenn"
   ]
  },
  {
   "cell_type": "code",
   "execution_count": 2,
   "metadata": {},
   "outputs": [],
   "source": [
    "# Set seed\n",
    "\n",
    "seed = 11\n",
    "np.random.seed(seed)"
   ]
  },
  {
   "cell_type": "code",
   "execution_count": 3,
   "metadata": {},
   "outputs": [
    {
     "name": "stdout",
     "output_type": "stream",
     "text": [
      "*[INFO] Model=SklearnPenn with params=Namespace(alpha=0.01, hls=(20, 30, 40), max_iter=500, n_ensemble=5, trans_x=False)\n",
      "*[INFO] RealDomain with params=Namespace(dom_str='real', min_max=[(-5, 10), (0, 15), (-5, 10), (0, 15), (-5, 10), (0, 15), (-5, 10), (0, 15), (-5, 10), (0, 15), (-5, 10), (0, 15), (-5, 10), (0, 15), (-5, 10), (0, 15), (-5, 10), (0, 15), (-5, 10), (0, 15), (-5, 10), (0, 15), (-5, 10), (0, 15), (-5, 10), (0, 15), (-5, 10), (0, 15), (-5, 10), (0, 15), (-5, 10), (0, 15), (-5, 10), (0, 15), (-5, 10), (0, 15), (-5, 10), (0, 15), (-5, 10), (0, 15)])\n",
      "*[INFO] NelderMeadAcqOptimizer with params=Namespace(domain_params=Namespace(dom_str='real', min_max=[(-5, 10), (0, 15), (-5, 10), (0, 15), (-5, 10), (0, 15), (-5, 10), (0, 15), (-5, 10), (0, 15), (-5, 10), (0, 15), (-5, 10), (0, 15), (-5, 10), (0, 15), (-5, 10), (0, 15), (-5, 10), (0, 15), (-5, 10), (0, 15), (-5, 10), (0, 15), (-5, 10), (0, 15), (-5, 10), (0, 15), (-5, 10), (0, 15), (-5, 10), (0, 15), (-5, 10), (0, 15), (-5, 10), (0, 15), (-5, 10), (0, 15), (-5, 10), (0, 15)]), init_str='bsf', jitter=True, jitter_val=0.1, k=2, max_iter=200, n_init_rs=0, n_rand=1, rand_every=10, rhobeg=0.5)\n",
      "*[INFO] AcqFunction with params=Namespace(acq_str='ts', n_gen=500, trans_str='')\n",
      "*[INFO] AcqOptDesigner with params=Namespace(n_rep=1, seed=11)\n",
      "*[INFO] SimpleBo with params=Namespace(n_iter=3, print_x_str_len=30, reinit_designer=False, seed=11)\n",
      "*[INFO] SimpleBo initialized with 80 observations\n"
     ]
    }
   ],
   "source": [
    "# BO Setup\n",
    "\n",
    "# define function\n",
    "n_dim = 40\n",
    "f = lambda x: np.sum([branin(x[2 * i : 2 * i + 2]) for i in range(n_dim // 2)])\n",
    "\n",
    "# define model\n",
    "model = SklearnPenn()\n",
    "\n",
    "# define acqfunction\n",
    "acqfunction = {'acq_str': 'ts', 'n_gen': 500}\n",
    "\n",
    "# define acqoptimizer\n",
    "domain = get_branin_domain_nd(n_dim)\n",
    "acqoptimizer = NelderMeadAcqOptimizer({'rand_every': 10, 'max_iter': 200, 'jitter': True}, domain)\n",
    "\n",
    "# define initial dataset\n",
    "n_init = 80\n",
    "data = Namespace()\n",
    "data.x = domain.unif_rand_sample(n_init)\n",
    "data.y = [f(x) for x in data.x]\n",
    "\n",
    "# define BO\n",
    "n_iter = 3\n",
    "bo = SimpleBo(f, model, acqfunction, acqoptimizer, data=data, params={'n_iter': n_iter}, seed=seed)"
   ]
  },
  {
   "cell_type": "code",
   "execution_count": 4,
   "metadata": {},
   "outputs": [
    {
     "name": "stdout",
     "output_type": "stream",
     "text": [
      "*[KEY] i: iteration, x: design, y: objective, min_y: minimum objective so far (* indicates a new min_y)\n",
      "i: 0,    x: [1.88786861379254, 5.646327594.. \ty: 1042.3721,\tmin_y: 701.7171 \n",
      "i: 1,    x: [-5.0, 13.72504093764692, 3.25.. \ty: 680.2449,\tmin_y: 680.2449 *\n",
      "i: 2,    x: [-5.0, 14.417920016883839, 3.7.. \ty: 750.5265,\tmin_y: 680.2449 \n",
      "Minimum y = 680.244940152023\n",
      "Minimizer x = [-5.0, 13.72504093764692, 3.2501219939817894, 3.8398430363348504, -2.276275359980508, 11.06459751547162, -0.3266933524995721, 13.01996086916991, 3.3578572458316804, 4.299315524861031, -1.9754052820519106, 6.446597619870904, 9.439424973361355, 1.282277450465883, 3.4513778119361027, 4.754938330930675, -4.10437485207705, 3.5254148504242315, 9.341950919377444, 3.254054624374378, 4.190876931670375, 12.90557474926445, 1.3429644201622026, 7.41375242313291, 4.500619421664984, 8.244378157727777, 8.304308697356399, 6.034489275111271, 1.031125524526684, 7.051361166933784, -3.329233391290358, 9.46572297148492, -1.4239516503441945, 8.064679232400648, 4.330108488070245, 11.513036684588364, 5.366818066494595, 5.807365354293513, -2.8836661957586416, 12.569301869968573]\n",
      "Found at i = 1\n"
     ]
    }
   ],
   "source": [
    "# Run BO\n",
    "\n",
    "results = bo.run()"
   ]
  },
  {
   "cell_type": "code",
   "execution_count": 5,
   "metadata": {},
   "outputs": [],
   "source": [
    "# Save results\n",
    "\n",
    "save_dir = Path(f'results/branin{n_dim}_{seed}')\n",
    "save_dir.mkdir(parents=True, exist_ok=True)\n",
    "\n",
    "with open(save_dir / \"results.pkl\", \"wb\") as handle:\n",
    "    pickle.dump(results, handle, protocol=pickle.HIGHEST_PROTOCOL)"
   ]
  }
 ],
 "metadata": {
  "kernelspec": {
   "display_name": "Python 3",
   "language": "python",
   "name": "python3"
  },
  "language_info": {
   "codemirror_mode": {
    "name": "ipython",
    "version": 3
   },
   "file_extension": ".py",
   "mimetype": "text/x-python",
   "name": "python",
   "nbconvert_exporter": "python",
   "pygments_lexer": "ipython3",
   "version": "3.7.4"
  }
 },
 "nbformat": 4,
 "nbformat_minor": 4
}
