{
 "cells": [
  {
   "cell_type": "code",
   "execution_count": 98,
   "metadata": {},
   "outputs": [],
   "source": [
    "import pandas as pd\n",
    "import numpy as np\n",
    "import copy\n",
    "\n",
    "from matplotlib import pyplot as plt\n",
    "from torch.utils.tensorboard import SummaryWriter\n",
    "\n",
    "import torch\n",
    "import torch.nn as nn\n",
    "import torch.nn.functional as F\n",
    "import torch.optim as optim\n",
    "from torch.optim import lr_scheduler\n",
    "import numpy as np\n",
    "import torchvision\n",
    "from torchvision import datasets, models, transforms\n",
    "import matplotlib.pyplot as plt\n",
    "import os, sys, shutil, copy, time, random\n",
    "from functools import partial\n",
    "\n",
    "from sustain_dataset import *\n",
    "from models import *\n",
    "from utils import *"
   ]
  },
  {
   "cell_type": "code",
   "execution_count": 134,
   "metadata": {},
   "outputs": [],
   "source": [
    "class Args:\n",
    "    def __init__(self):\n",
    "        self.dataset = \"gdp\"\n",
    "        self.gpu = 0\n",
    "        self.train_bias_f = False\n",
    "        self.train_bias_y = False\n",
    "        self.train_cons = False\n",
    "        self.train_calib = False\n",
    "        self.num_bins = 0\n",
    "        self.run_label = 0\n",
    "        self.model = 'small' #'bigg' #'linear'\n",
    "        self.learning_rate = 1e-3\n",
    "        self.batch_size = 1024\n",
    "        self.knn = 100\n",
    "        self.log_root = './runs/unbiased'"
   ]
  },
  {
   "cell_type": "code",
   "execution_count": 135,
   "metadata": {},
   "outputs": [],
   "source": [
    "def tax_utility(difference, beta=1.):\n",
    "    # difference: y_0 - pred\n",
    "    return beta * difference\n",
    "\n",
    "\n",
    "def compute_utility(model, test_dataset, a=torch.relu, r=torch.log, y_0=0.3):\n",
    "    inputs, labels = test_dataset[:]\n",
    "    inputs, labels = inputs.to(device), labels.to(device)\n",
    "    pred = model(inputs).reshape(-1)\n",
    "    labels = labels.reshape(-1)\n",
    "    finacial_aid = a(y_0 - pred)\n",
    "    after_finacial_aid = labels + finacial_aid\n",
    "    # utility = r(2.+after_finacial_aid) # worked well\n",
    "    utility = r(3.+after_finacial_aid)\n",
    "    utility = utility.mean(dim=0)\n",
    "    return utility\n",
    "\n",
    "def smooth(y, box_pts):\n",
    "    box = np.ones(box_pts)/box_pts\n",
    "    y_smooth = np.convolve(y, box, mode='valid')\n",
    "    return y_smooth\n",
    "\n",
    "def plot_errbar(ax, x, y, c=None, label=None):\n",
    "    mean = np.mean(y, axis=1)\n",
    "    std = np.std(y, axis=1) / np.sqrt(y.shape[1])\n",
    "    ax.plot(x, mean, label=label, c=c, linewidth=2.)\n",
    "    ax.fill_between(x, mean-std, mean+std, color=c, alpha=0.01)"
   ]
  },
  {
   "cell_type": "code",
   "execution_count": null,
   "metadata": {},
   "outputs": [],
   "source": [
    "args = Args()\n",
    "    \n",
    "device = torch.device('cuda:%d' % args.gpu)\n",
    "args.device = device\n",
    "start_time = time.time()\n",
    "run_labels = range(0, 10, 1)\n",
    "utility_points = 100\n",
    "fig1, ax1 = plt.subplots(nrows=1, ncols=1, figsize=(20, 15))\n",
    "colors = plt.cm.get_cmap('Set3').colors\n",
    "# colors = ['r', 'g', 'c', 'm', 'k', 'orange', 'r', 'black']\n",
    "\n",
    "loss_ = 0.\n",
    "loss_rebias = 0.\n",
    "axis= 'label' #'prediction'\n",
    "\n",
    "for i, train_bias_y in enumerate([False]):\n",
    "    for j, train_bias_f in enumerate([False]):\n",
    "        for k, train_cons in enumerate([False]):\n",
    "            for t, train_calib in enumerate([False]):\n",
    "\n",
    "                # test_utility = np.zeros((utility_points + 18, len(run_labels)))\n",
    "                test_utility = np.zeros((utility_points, len(run_labels)))\n",
    "\n",
    "                labels_bias = None\n",
    "                for run_label in run_labels:\n",
    "                    args.name = '%s_knn/model=%s-%r-%r-%r-%r-bs=%d-run=%d' % \\\n",
    "                    (args.dataset, args.model, args.train_bias_y, args.train_bias_f, args.train_cons,\n",
    "                     args.train_calib, args.batch_size, run_label)\n",
    "#                     args.name = '%s_knn/model=%s-%r-%r-%r-%r-False-False-True-bs=%d-bin=%d-%d-run=%d' % \\\n",
    "#                                 (args.dataset, args.model, train_bias_y, train_bias_f, train_cons,\n",
    "#                                  train_calib, args.batch_size, args.num_bins, args.knn, run_label)\n",
    "\n",
    "                    args.log_dir = os.path.join(args.log_root, args.name)\n",
    "                    if not os.path.isdir(args.log_dir):\n",
    "                        print(\"dir not exist {}\".format(args.name))\n",
    "                        continue\n",
    "#                     print(args.name)\n",
    "                    ckpt = torch.load(os.path.join(args.log_dir, \"ckpt.pth\"))\n",
    "                    train_dataset = ckpt[1]\n",
    "                    test_dataset = ckpt[2]\n",
    "\n",
    "                    # Define model and optimizer\n",
    "                    model = model_list[args.model](train_dataset.x_dim).to(device)\n",
    "                    model.load_state_dict(ckpt[0])\n",
    "\n",
    "#                     flow = deeper_flow(layer_num=5, feature_size=20).to(device)  # one joint flow\n",
    "#                     flow.load_state_dict(ckpt[4])\n",
    "\n",
    "                    # Performance evaluation\n",
    "                    with torch.no_grad():\n",
    "                        u_array_bias = []\n",
    "                        labels_bias = []\n",
    "\n",
    "                        for y0 in np.linspace(-1.0, 2, utility_points):\n",
    "                            u = compute_utility(model, test_dataset, y_0=y0).data.item()\n",
    "                            # u = compute_utility(model, test_dataset, y_0=y0, r=(lambda x: torch.pow(x, 1./3.))).data.item()\n",
    "                            # u = compute_utility(model, test_dataset, a=tax_utility, y_0=y0)  # .data.item()\n",
    "                            #     print(u)\n",
    "                            u_array_bias.append(u)\n",
    "                            labels_bias.append(y0)\n",
    "\n",
    "                    # plt.plot(labels_bias, u_array_bias, label=\"%r-%r-%r-%r\"%(train_bias_y, train_bias_f, train_cons,\n",
    "                    #          train_calib))\n",
    "                    test_utility[:utility_points, run_label] = np.array(u_array_bias) #smooth(np.array(u_array_bias), 18)\n",
    "                    model.recalibrator = RecalibratorBias(model, train_dataset[:], args, axis=axis)\n",
    "                    model.eval()\n",
    "                    loss, err_bias = make_plot(model, test_dataset[:], args, do_plot=False, axis=axis)\n",
    "                    loss_rebias += loss\n",
    "                    model.train()\n",
    "                    loss, err_bias = make_plot(model, test_dataset[:], args, do_plot=False, axis=axis)\n",
    "                    loss_ += loss\n",
    "                if isinstance(labels_bias, type(None)):\n",
    "                    continue\n",
    "                print(int(k * 8 + i * 4 + j * 2 + t))\n",
    "                plot_errbar(ax1, labels_bias, test_utility[:utility_points],\n",
    "                            label='bias_y=%r-bias_f=%r-cons=%r-calib=%r' % (train_bias_y, train_bias_f, train_cons, train_calib),\n",
    "                            c=colors[int(j * 8 + i * 4 + k * 2 + t)%12])\n",
    "\n",
    "print(loss_/10.)\n",
    "print(loss_rebias/10.)\n",
    "\n",
    "#     # ax1.set_ylim([0.6, 1.5])\n",
    "#     # ax1.set_ylim([1., 1.5])\n",
    "#     fontsize = 36\n",
    "#     if args.dataset == \"gdp\":\n",
    "#         ax1.set_title(\"China GDP per capita prediction\", fontsize=fontsize)\n",
    "#     else:\n",
    "#         ax1.set_title(\"Uganda poverty prediction\", fontsize=fontsize)\n",
    "\n",
    "#     ax1.legend(fontsize=fontsize)\n",
    "#     ax1.set_xlabel(r\"$y_0$\", fontsize=fontsize)\n",
    "#     ax1.set_ylabel(r\"$u(\\epsilon)$\", fontsize=fontsize)\n",
    "\n",
    "#     plt.tight_layout()\n",
    "# #     plt.savefig('plots/result_{}_knn.png'.format(args.dataset))"
   ]
  },
  {
   "cell_type": "code",
   "execution_count": 112,
   "metadata": {},
   "outputs": [],
   "source": [
    "class Recalibrator:\n",
    "    def __init__(self, model, data, args):\n",
    "        self.args = args\n",
    "        self.model = model #regression model\n",
    "        \n",
    "        self.flow = NafFlow().to(args.device)\n",
    "        flow_optim = optim.Adam(self.flow.parameters(), lr=1e-3)\n",
    "        \n",
    "        inputs, labels = data[0].to(args.device), data[1].to(args.device)\n",
    "        with torch.no_grad():\n",
    "            outputs = model(inputs)\n",
    "        \n",
    "        labels = torch.sort(labels.flatten())[0] #.cpu().numpy()\n",
    "        outputs = torch.sort(outputs.flatten())[0] #.cpu().numpy()\n",
    "#         self.iso = IsotonicRegression(out_of_bounds='clip', increasing=True)\n",
    "#         self.iso = self.iso.fit(outputs, labels)\n",
    "\n",
    "        for iteration in range(5000):\n",
    "#             import pdb\n",
    "#             pdb.set_trace()\n",
    "            flow_optim.zero_grad()\n",
    "            adjusted_outputs, _ = self.flow(outputs.view(-1, 1))\n",
    "            loss_bias = (labels - adjusted_outputs.view(-1)).pow(2).mean()\n",
    "            loss_bias.backward()\n",
    "            flow_optim.step()\n",
    "\n",
    "    def adjust(self, original_y):\n",
    "#         original_shape = original_y.shape\n",
    "        output = self.flow(original_y.reshape(-1,1).to(device))[0]\n",
    "        return output.reshape(original_y.shape) \n",
    "    "
   ]
  },
  {
   "cell_type": "code",
   "execution_count": 113,
   "metadata": {},
   "outputs": [],
   "source": [
    "# model.recalibrator = RecalibratorBias_flow(model, flow, args, axis='label')\n",
    "model.recalibrator = RecalibratorBias(model, train_dataset[:], args, axis='prediction')\n",
    "# model.recalibrator = Recalibrator_flow(model, flow, args)\n",
    "# model.train()\n",
    "# model.recalibrator = Recalibrator(model, train_dataset[:], args)"
   ]
  },
  {
   "cell_type": "code",
   "execution_count": 114,
   "metadata": {},
   "outputs": [],
   "source": [
    "# model.eval()\n",
    "# err_total_bias, errs_bias = eval_bias(model, test_dataset[:], args, axis='label')\n",
    "# model.recalibrator.flow(test_dataset[:][1].reshape(-1,1).to(device))[0].shape"
   ]
  },
  {
   "cell_type": "code",
   "execution_count": 115,
   "metadata": {},
   "outputs": [],
   "source": [
    "def eval_calibration(model, data, args):\n",
    "    inputs, labels = data\n",
    "    inputs = inputs.to(args.device)\n",
    "    labels = labels.to(args.device)\n",
    "    \n",
    "    outputs = model(inputs)\n",
    "    \n",
    "    labels, _ = torch.sort(labels.flatten())\n",
    "    outputs, _ = torch.sort(outputs.flatten())\n",
    "    \n",
    "    loss_calib = (labels - outputs).pow(2).mean()\n",
    "    return loss_calib, None\n",
    "\n",
    "\n",
    "def make_plot(model, data, args, do_plot=True, axis='label'):\n",
    "#     err_total_bias, errs_bias, smoothed_labels, smoothed_outputs = eval_bias_knn_plot(model, data, args)\n",
    "#     err_total_bias, errs_bias, smoothed_labels, smoothed_outputs = err_total_bias.cpu(), errs_bias.cpu(), smoothed_labels.cpu(), smoothed_outputs.cpu()\n",
    "#     args.num_bins = 20\n",
    "#     err_total_bias, errs_bias = eval_bias(model, data, args, axis='label')\n",
    "#     smoothed_labels, smoothed_outputs = smoothed_labels.cpu(), smoothed_outputs.cpu()\n",
    "    if axis == \"calib\":\n",
    "        loss, err_bias = eval_calibration(model, data, args)\n",
    "    else:\n",
    "        loss, err_bias = eval_bias_knn(model, data, args, axis=axis)\n",
    "    \n",
    "    if do_plot:\n",
    "        fig = plt.figure(figsize=(6, 6))\n",
    "        plt.bar(np.linspace(0, 1, args.num_bins+1)[:-1], err_bias, align='edge', width=0.05)\n",
    "        plt.xlabel(\"smoothed labels\", fontsize=20)\n",
    "        plt.ylabel(\"smoothed outputs\", fontsize=20)\n",
    "        \n",
    "        plt.xlim([-1.5, 2.6])\n",
    "        plt.ylim([-1.5, 2.6])\n",
    "    print(\"loss {}\".format(loss.data.item()))\n",
    "    return loss, err_bias"
   ]
  },
  {
   "cell_type": "code",
   "execution_count": 116,
   "metadata": {},
   "outputs": [
    {
     "name": "stdout",
     "output_type": "stream",
     "text": [
      "loss 0.015301072038710117\n",
      "loss 0.017115384340286255\n"
     ]
    },
    {
     "ename": "TypeError",
     "evalue": "can't convert cuda:0 device type tensor to numpy. Use Tensor.cpu() to copy the tensor to host memory first.",
     "output_type": "error",
     "traceback": [
      "\u001b[0;31m---------------------------------------------------------------------------\u001b[0m",
      "\u001b[0;31mTypeError\u001b[0m                                 Traceback (most recent call last)",
      "\u001b[0;32m<ipython-input-116-40b0e8d0a255>\u001b[0m in \u001b[0;36m<module>\u001b[0;34m\u001b[0m\n\u001b[1;32m      9\u001b[0m \u001b[0;34m\u001b[0m\u001b[0m\n\u001b[1;32m     10\u001b[0m     \u001b[0mfig\u001b[0m \u001b[0;34m=\u001b[0m \u001b[0mplt\u001b[0m\u001b[0;34m.\u001b[0m\u001b[0mfigure\u001b[0m\u001b[0;34m(\u001b[0m\u001b[0mfigsize\u001b[0m\u001b[0;34m=\u001b[0m\u001b[0;34m(\u001b[0m\u001b[0;36m6\u001b[0m\u001b[0;34m,\u001b[0m \u001b[0;36m6\u001b[0m\u001b[0;34m)\u001b[0m\u001b[0;34m)\u001b[0m\u001b[0;34m\u001b[0m\u001b[0;34m\u001b[0m\u001b[0m\n\u001b[0;32m---> 11\u001b[0;31m     \u001b[0mplt\u001b[0m\u001b[0;34m.\u001b[0m\u001b[0mbar\u001b[0m\u001b[0;34m(\u001b[0m\u001b[0mnp\u001b[0m\u001b[0;34m.\u001b[0m\u001b[0mlinspace\u001b[0m\u001b[0;34m(\u001b[0m\u001b[0;36m0\u001b[0m\u001b[0;34m,\u001b[0m \u001b[0;36m1\u001b[0m\u001b[0;34m,\u001b[0m \u001b[0margs\u001b[0m\u001b[0;34m.\u001b[0m\u001b[0mnum_bins\u001b[0m\u001b[0;34m+\u001b[0m\u001b[0;36m1\u001b[0m\u001b[0;34m)\u001b[0m\u001b[0;34m[\u001b[0m\u001b[0;34m:\u001b[0m\u001b[0;34m-\u001b[0m\u001b[0;36m1\u001b[0m\u001b[0;34m]\u001b[0m\u001b[0;34m,\u001b[0m \u001b[0mcalibrated_errs_bias\u001b[0m\u001b[0;34m,\u001b[0m \u001b[0malign\u001b[0m\u001b[0;34m=\u001b[0m\u001b[0;34m'edge'\u001b[0m\u001b[0;34m,\u001b[0m \u001b[0mwidth\u001b[0m\u001b[0;34m=\u001b[0m\u001b[0;36m0.05\u001b[0m\u001b[0;34m,\u001b[0m \u001b[0malpha\u001b[0m\u001b[0;34m=\u001b[0m\u001b[0;36m0.5\u001b[0m\u001b[0;34m,\u001b[0m \u001b[0mlabel\u001b[0m\u001b[0;34m=\u001b[0m\u001b[0;34m\"bias_label\"\u001b[0m\u001b[0;34m)\u001b[0m\u001b[0;34m\u001b[0m\u001b[0;34m\u001b[0m\u001b[0m\n\u001b[0m\u001b[1;32m     12\u001b[0m     \u001b[0mplt\u001b[0m\u001b[0;34m.\u001b[0m\u001b[0mbar\u001b[0m\u001b[0;34m(\u001b[0m\u001b[0mnp\u001b[0m\u001b[0;34m.\u001b[0m\u001b[0mlinspace\u001b[0m\u001b[0;34m(\u001b[0m\u001b[0;36m0\u001b[0m\u001b[0;34m,\u001b[0m \u001b[0;36m1\u001b[0m\u001b[0;34m,\u001b[0m \u001b[0margs\u001b[0m\u001b[0;34m.\u001b[0m\u001b[0mnum_bins\u001b[0m\u001b[0;34m+\u001b[0m\u001b[0;36m1\u001b[0m\u001b[0;34m)\u001b[0m\u001b[0;34m[\u001b[0m\u001b[0;34m:\u001b[0m\u001b[0;34m-\u001b[0m\u001b[0;36m1\u001b[0m\u001b[0;34m]\u001b[0m\u001b[0;34m,\u001b[0m \u001b[0merrs_bias\u001b[0m\u001b[0;34m,\u001b[0m \u001b[0malign\u001b[0m\u001b[0;34m=\u001b[0m\u001b[0;34m'edge'\u001b[0m\u001b[0;34m,\u001b[0m \u001b[0mwidth\u001b[0m\u001b[0;34m=\u001b[0m\u001b[0;36m0.05\u001b[0m\u001b[0;34m,\u001b[0m \u001b[0malpha\u001b[0m\u001b[0;34m=\u001b[0m\u001b[0;36m0.5\u001b[0m\u001b[0;34m,\u001b[0m \u001b[0mlabel\u001b[0m\u001b[0;34m=\u001b[0m\u001b[0;34m\"original\"\u001b[0m\u001b[0;34m)\u001b[0m\u001b[0;34m\u001b[0m\u001b[0;34m\u001b[0m\u001b[0m\n\u001b[1;32m     13\u001b[0m \u001b[0;34m\u001b[0m\u001b[0m\n",
      "\u001b[0;32m/atlas/u/chenlin/miniconda3/lib/python3.7/site-packages/matplotlib/pyplot.py\u001b[0m in \u001b[0;36mbar\u001b[0;34m(x, height, width, bottom, align, data, **kwargs)\u001b[0m\n\u001b[1;32m   2438\u001b[0m     return gca().bar(\n\u001b[1;32m   2439\u001b[0m         \u001b[0mx\u001b[0m\u001b[0;34m,\u001b[0m \u001b[0mheight\u001b[0m\u001b[0;34m,\u001b[0m \u001b[0mwidth\u001b[0m\u001b[0;34m=\u001b[0m\u001b[0mwidth\u001b[0m\u001b[0;34m,\u001b[0m \u001b[0mbottom\u001b[0m\u001b[0;34m=\u001b[0m\u001b[0mbottom\u001b[0m\u001b[0;34m,\u001b[0m \u001b[0malign\u001b[0m\u001b[0;34m=\u001b[0m\u001b[0malign\u001b[0m\u001b[0;34m,\u001b[0m\u001b[0;34m\u001b[0m\u001b[0;34m\u001b[0m\u001b[0m\n\u001b[0;32m-> 2440\u001b[0;31m         **({\"data\": data} if data is not None else {}), **kwargs)\n\u001b[0m\u001b[1;32m   2441\u001b[0m \u001b[0;34m\u001b[0m\u001b[0m\n\u001b[1;32m   2442\u001b[0m \u001b[0;34m\u001b[0m\u001b[0m\n",
      "\u001b[0;32m/atlas/u/chenlin/miniconda3/lib/python3.7/site-packages/matplotlib/__init__.py\u001b[0m in \u001b[0;36minner\u001b[0;34m(ax, data, *args, **kwargs)\u001b[0m\n\u001b[1;32m   1599\u001b[0m     \u001b[0;32mdef\u001b[0m \u001b[0minner\u001b[0m\u001b[0;34m(\u001b[0m\u001b[0max\u001b[0m\u001b[0;34m,\u001b[0m \u001b[0;34m*\u001b[0m\u001b[0margs\u001b[0m\u001b[0;34m,\u001b[0m \u001b[0mdata\u001b[0m\u001b[0;34m=\u001b[0m\u001b[0;32mNone\u001b[0m\u001b[0;34m,\u001b[0m \u001b[0;34m**\u001b[0m\u001b[0mkwargs\u001b[0m\u001b[0;34m)\u001b[0m\u001b[0;34m:\u001b[0m\u001b[0;34m\u001b[0m\u001b[0;34m\u001b[0m\u001b[0m\n\u001b[1;32m   1600\u001b[0m         \u001b[0;32mif\u001b[0m \u001b[0mdata\u001b[0m \u001b[0;32mis\u001b[0m \u001b[0;32mNone\u001b[0m\u001b[0;34m:\u001b[0m\u001b[0;34m\u001b[0m\u001b[0;34m\u001b[0m\u001b[0m\n\u001b[0;32m-> 1601\u001b[0;31m             \u001b[0;32mreturn\u001b[0m \u001b[0mfunc\u001b[0m\u001b[0;34m(\u001b[0m\u001b[0max\u001b[0m\u001b[0;34m,\u001b[0m \u001b[0;34m*\u001b[0m\u001b[0mmap\u001b[0m\u001b[0;34m(\u001b[0m\u001b[0msanitize_sequence\u001b[0m\u001b[0;34m,\u001b[0m \u001b[0margs\u001b[0m\u001b[0;34m)\u001b[0m\u001b[0;34m,\u001b[0m \u001b[0;34m**\u001b[0m\u001b[0mkwargs\u001b[0m\u001b[0;34m)\u001b[0m\u001b[0;34m\u001b[0m\u001b[0;34m\u001b[0m\u001b[0m\n\u001b[0m\u001b[1;32m   1602\u001b[0m \u001b[0;34m\u001b[0m\u001b[0m\n\u001b[1;32m   1603\u001b[0m         \u001b[0mbound\u001b[0m \u001b[0;34m=\u001b[0m \u001b[0mnew_sig\u001b[0m\u001b[0;34m.\u001b[0m\u001b[0mbind\u001b[0m\u001b[0;34m(\u001b[0m\u001b[0max\u001b[0m\u001b[0;34m,\u001b[0m \u001b[0;34m*\u001b[0m\u001b[0margs\u001b[0m\u001b[0;34m,\u001b[0m \u001b[0;34m**\u001b[0m\u001b[0mkwargs\u001b[0m\u001b[0;34m)\u001b[0m\u001b[0;34m\u001b[0m\u001b[0;34m\u001b[0m\u001b[0m\n",
      "\u001b[0;32m/atlas/u/chenlin/miniconda3/lib/python3.7/site-packages/matplotlib/axes/_axes.py\u001b[0m in \u001b[0;36mbar\u001b[0;34m(self, x, height, width, bottom, align, **kwargs)\u001b[0m\n\u001b[1;32m   2373\u001b[0m         x, height, width, y, linewidth = np.broadcast_arrays(\n\u001b[1;32m   2374\u001b[0m             \u001b[0;31m# Make args iterable too.\u001b[0m\u001b[0;34m\u001b[0m\u001b[0;34m\u001b[0m\u001b[0;34m\u001b[0m\u001b[0m\n\u001b[0;32m-> 2375\u001b[0;31m             np.atleast_1d(x), height, width, y, linewidth)\n\u001b[0m\u001b[1;32m   2376\u001b[0m \u001b[0;34m\u001b[0m\u001b[0m\n\u001b[1;32m   2377\u001b[0m         \u001b[0;31m# Now that units have been converted, set the tick locations.\u001b[0m\u001b[0;34m\u001b[0m\u001b[0;34m\u001b[0m\u001b[0;34m\u001b[0m\u001b[0m\n",
      "\u001b[0;32m<__array_function__ internals>\u001b[0m in \u001b[0;36mbroadcast_arrays\u001b[0;34m(*args, **kwargs)\u001b[0m\n",
      "\u001b[0;32m/atlas/u/chenlin/miniconda3/lib/python3.7/site-packages/numpy/lib/stride_tricks.py\u001b[0m in \u001b[0;36mbroadcast_arrays\u001b[0;34m(*args, **kwargs)\u001b[0m\n\u001b[1;32m    260\u001b[0m         raise TypeError('broadcast_arrays() got an unexpected keyword '\n\u001b[1;32m    261\u001b[0m                         'argument {!r}'.format(list(kwargs.keys())[0]))\n\u001b[0;32m--> 262\u001b[0;31m     \u001b[0margs\u001b[0m \u001b[0;34m=\u001b[0m \u001b[0;34m[\u001b[0m\u001b[0mnp\u001b[0m\u001b[0;34m.\u001b[0m\u001b[0marray\u001b[0m\u001b[0;34m(\u001b[0m\u001b[0m_m\u001b[0m\u001b[0;34m,\u001b[0m \u001b[0mcopy\u001b[0m\u001b[0;34m=\u001b[0m\u001b[0;32mFalse\u001b[0m\u001b[0;34m,\u001b[0m \u001b[0msubok\u001b[0m\u001b[0;34m=\u001b[0m\u001b[0msubok\u001b[0m\u001b[0;34m)\u001b[0m \u001b[0;32mfor\u001b[0m \u001b[0m_m\u001b[0m \u001b[0;32min\u001b[0m \u001b[0margs\u001b[0m\u001b[0;34m]\u001b[0m\u001b[0;34m\u001b[0m\u001b[0;34m\u001b[0m\u001b[0m\n\u001b[0m\u001b[1;32m    263\u001b[0m \u001b[0;34m\u001b[0m\u001b[0m\n\u001b[1;32m    264\u001b[0m     \u001b[0mshape\u001b[0m \u001b[0;34m=\u001b[0m \u001b[0m_broadcast_shape\u001b[0m\u001b[0;34m(\u001b[0m\u001b[0;34m*\u001b[0m\u001b[0margs\u001b[0m\u001b[0;34m)\u001b[0m\u001b[0;34m\u001b[0m\u001b[0;34m\u001b[0m\u001b[0m\n",
      "\u001b[0;32m/atlas/u/chenlin/miniconda3/lib/python3.7/site-packages/numpy/lib/stride_tricks.py\u001b[0m in \u001b[0;36m<listcomp>\u001b[0;34m(.0)\u001b[0m\n\u001b[1;32m    260\u001b[0m         raise TypeError('broadcast_arrays() got an unexpected keyword '\n\u001b[1;32m    261\u001b[0m                         'argument {!r}'.format(list(kwargs.keys())[0]))\n\u001b[0;32m--> 262\u001b[0;31m     \u001b[0margs\u001b[0m \u001b[0;34m=\u001b[0m \u001b[0;34m[\u001b[0m\u001b[0mnp\u001b[0m\u001b[0;34m.\u001b[0m\u001b[0marray\u001b[0m\u001b[0;34m(\u001b[0m\u001b[0m_m\u001b[0m\u001b[0;34m,\u001b[0m \u001b[0mcopy\u001b[0m\u001b[0;34m=\u001b[0m\u001b[0;32mFalse\u001b[0m\u001b[0;34m,\u001b[0m \u001b[0msubok\u001b[0m\u001b[0;34m=\u001b[0m\u001b[0msubok\u001b[0m\u001b[0;34m)\u001b[0m \u001b[0;32mfor\u001b[0m \u001b[0m_m\u001b[0m \u001b[0;32min\u001b[0m \u001b[0margs\u001b[0m\u001b[0;34m]\u001b[0m\u001b[0;34m\u001b[0m\u001b[0;34m\u001b[0m\u001b[0m\n\u001b[0m\u001b[1;32m    263\u001b[0m \u001b[0;34m\u001b[0m\u001b[0m\n\u001b[1;32m    264\u001b[0m     \u001b[0mshape\u001b[0m \u001b[0;34m=\u001b[0m \u001b[0m_broadcast_shape\u001b[0m\u001b[0;34m(\u001b[0m\u001b[0;34m*\u001b[0m\u001b[0margs\u001b[0m\u001b[0;34m)\u001b[0m\u001b[0;34m\u001b[0m\u001b[0;34m\u001b[0m\u001b[0m\n",
      "\u001b[0;32m/atlas/u/chenlin/miniconda3/lib/python3.7/site-packages/torch/tensor.py\u001b[0m in \u001b[0;36m__array__\u001b[0;34m(self, dtype)\u001b[0m\n\u001b[1;32m    490\u001b[0m     \u001b[0;32mdef\u001b[0m \u001b[0m__array__\u001b[0m\u001b[0;34m(\u001b[0m\u001b[0mself\u001b[0m\u001b[0;34m,\u001b[0m \u001b[0mdtype\u001b[0m\u001b[0;34m=\u001b[0m\u001b[0;32mNone\u001b[0m\u001b[0;34m)\u001b[0m\u001b[0;34m:\u001b[0m\u001b[0;34m\u001b[0m\u001b[0;34m\u001b[0m\u001b[0m\n\u001b[1;32m    491\u001b[0m         \u001b[0;32mif\u001b[0m \u001b[0mdtype\u001b[0m \u001b[0;32mis\u001b[0m \u001b[0;32mNone\u001b[0m\u001b[0;34m:\u001b[0m\u001b[0;34m\u001b[0m\u001b[0;34m\u001b[0m\u001b[0m\n\u001b[0;32m--> 492\u001b[0;31m             \u001b[0;32mreturn\u001b[0m \u001b[0mself\u001b[0m\u001b[0;34m.\u001b[0m\u001b[0mnumpy\u001b[0m\u001b[0;34m(\u001b[0m\u001b[0;34m)\u001b[0m\u001b[0;34m\u001b[0m\u001b[0;34m\u001b[0m\u001b[0m\n\u001b[0m\u001b[1;32m    493\u001b[0m         \u001b[0;32melse\u001b[0m\u001b[0;34m:\u001b[0m\u001b[0;34m\u001b[0m\u001b[0;34m\u001b[0m\u001b[0m\n\u001b[1;32m    494\u001b[0m             \u001b[0;32mreturn\u001b[0m \u001b[0mself\u001b[0m\u001b[0;34m.\u001b[0m\u001b[0mnumpy\u001b[0m\u001b[0;34m(\u001b[0m\u001b[0;34m)\u001b[0m\u001b[0;34m.\u001b[0m\u001b[0mastype\u001b[0m\u001b[0;34m(\u001b[0m\u001b[0mdtype\u001b[0m\u001b[0;34m,\u001b[0m \u001b[0mcopy\u001b[0m\u001b[0;34m=\u001b[0m\u001b[0;32mFalse\u001b[0m\u001b[0;34m)\u001b[0m\u001b[0;34m\u001b[0m\u001b[0;34m\u001b[0m\u001b[0m\n",
      "\u001b[0;31mTypeError\u001b[0m: can't convert cuda:0 device type tensor to numpy. Use Tensor.cpu() to copy the tensor to host memory first."
     ]
    },
    {
     "data": {
      "image/png": "[encoded data removed]",
      "text/plain": [
       "<Figure size 432x432 with 1 Axes>"
      ]
     },
     "metadata": {
      "needs_background": "light"
     },
     "output_type": "display_data"
    }
   ],
   "source": [
    "# calibrated_model = copy.deepcopy(model)\n",
    "with torch.no_grad():\n",
    "    model.eval()\n",
    "#     calibrated_err_total_bias, calibrated_errs_bias = make_plot(model, test_dataset[:], args, do_plot=False, axis='calib')\n",
    "#     calibrated_err_total_bias, calibrated_errs_bias = make_plot(model, test_dataset[:], args, do_plot=False, axis='label')\n",
    "    calibrated_err_total_bias, calibrated_errs_bias = make_plot(model, test_dataset[:], args, do_plot=False, axis='prediction')\n",
    "    model.train()\n",
    "    err_total_bias, errs_bias = make_plot(model, test_dataset[:], args, do_plot=False, axis='prediction')\n",
    "    \n",
    "    fig = plt.figure(figsize=(6, 6))\n",
    "    plt.bar(np.linspace(0, 1, args.num_bins+1)[:-1], calibrated_errs_bias, align='edge', width=0.05, alpha=0.5, label=\"bias_label\")\n",
    "    plt.bar(np.linspace(0, 1, args.num_bins+1)[:-1], errs_bias, align='edge', width=0.05, alpha=0.5, label=\"original\")\n",
    "    \n",
    "#     plt.scatter(calibrated_smoothed_labels, calibrated_smoothed_outputs, s=1, c=\"b\", label=\"bias_label\")\n",
    "#     plt.scatter(smoothed_labels, smoothed_outputs, s=1, c=\"orange\", label=\"original\")\n",
    "#     plt.xlabel(\"smoothed labels\", fontsize=20)\n",
    "#     plt.ylabel(\"smoothed outputs\", fontsize=20)\n",
    "    plt.ylim([-1, 2])\n",
    "#     plt.ylim([-0.7, 0.2])\n",
    "#     plt.plot(np.linspace(-2.6, 2.6, 60), np.linspace(-2.6, 2.6, 60))\n",
    "    plt.legend(fontsize=20)"
   ]
  },
  {
   "cell_type": "code",
   "execution_count": 40,
   "metadata": {},
   "outputs": [
    {
     "data": {
      "text/plain": [
       "(torch.Size([1836, 1]), tensor(0.0160))"
      ]
     },
     "execution_count": 40,
     "metadata": {},
     "output_type": "execute_result"
    }
   ],
   "source": [
    "test_dataset[:][1].shape, test_dataset[:][1].mean()"
   ]
  },
  {
   "cell_type": "code",
   "execution_count": 92,
   "metadata": {},
   "outputs": [
    {
     "data": {
      "image/png": "[encoded data removed]",
      "text/plain": [
       "<Figure size 432x432 with 1 Axes>"
      ]
     },
     "metadata": {
      "needs_background": "light"
     },
     "output_type": "display_data"
    }
   ],
   "source": [
    "with torch.no_grad():\n",
    "    make_plot(model, test_dataset[:], args, do_plot=True)"
   ]
  },
  {
   "cell_type": "code",
   "execution_count": 99,
   "metadata": {},
   "outputs": [
    {
     "data": {
      "text/plain": [
       "<utils.RecalibratorBias at 0x7feb6a55ee10>"
      ]
     },
     "execution_count": 99,
     "metadata": {},
     "output_type": "execute_result"
    }
   ],
   "source": [
    "model.recalibrator\n",
    "calibrated_model.recalibrator"
   ]
  },
  {
   "cell_type": "code",
   "execution_count": 43,
   "metadata": {},
   "outputs": [],
   "source": [
    "class GDP_Dataset(Dataset):\n",
    "    def __init__(self, train=True, normalize=False, random_permute=True, permutation=None, doc=\"sustain_dataset/gdp_data/CHN_no2_train.pkl\", partition=0.3):\n",
    "        super(GDP_Dataset, self).__init__()\n",
    "        pd_data = pd.read_pickle(doc)\n",
    "\n",
    "        data = pd_data[[\n",
    "            'avg_lights_x_pct_max',\n",
    "            'avg_lights_x_pct_mean', 'avg_lights_x_pct_stdDev',\n",
    "            'avg_lights_x_pct_sum', 'avg_vis_max', 'avg_vis_mean', 'avg_vis_stdDev',\n",
    "            'avg_vis_sum', 'cf_cvg_max', 'cf_cvg_mean', 'cf_cvg_stdDev',\n",
    "            'cf_cvg_sum', 'stable_lights_max', 'stable_lights_mean',\n",
    "            'stable_lights_stdDev', 'stable_lights_sum', 'cvg_diff',\n",
    "            'light_sum_diff',\n",
    "            'GDP_cap']]\n",
    "\n",
    "        data = data.replace('?', np.nan)\n",
    "        data = data.replace([-np.inf, np.inf], np.nan)\n",
    "        data = data.dropna(axis=1)\n",
    "\n",
    "        data_torch = torch.from_numpy(data.to_numpy()).type(torch.float32)\n",
    "        if random_permute:\n",
    "            data_torch = data_torch[torch.randperm(data_torch.shape[0])]\n",
    "        else:\n",
    "            data_torch = data_torch[permutation]\n",
    "\n",
    "        data_x = data_torch[:, :-1]\n",
    "        data_y = data_torch[:, -1]\n",
    "\n",
    "        # pdb.set_trace()\n",
    "        # Normalize data_y\n",
    "        if normalize:\n",
    "            data_y = (torch.argsort(torch.argsort(data_y)).type(torch.float) / data_y.shape[0]).view(-1, 1)\n",
    "        else:\n",
    "            data_y = data_y.view(-1, 1)\n",
    "\n",
    "        partition = int((1 - partition) * data_x.shape[0])\n",
    "        self.mean = torch.mean(data_x[:partition], dim=0, keepdim=True)\n",
    "        self.std = torch.std(data_x[:partition], dim=0, keepdim=True)\n",
    "\n",
    "        self.mean_y = torch.mean(data_y[:partition], dim=0, keepdim=True)\n",
    "        self.std_y = torch.std(data_y[:partition], dim=0, keepdim=True)\n",
    "        self.total_data = data_x.shape[0]\n",
    "\n",
    "        if train:\n",
    "            self.data_x = data_x[:partition]\n",
    "            self.data_y = data_y[:partition]\n",
    "        else:\n",
    "            self.data_x = data_x[partition:]\n",
    "            self.data_y = data_y[partition:]\n",
    "\n",
    "        # self.data_x = data_x\n",
    "        # self.data_y = data_y\n",
    "\n",
    "        if not normalize:\n",
    "            print(\"mean_y {}:\".format(self.mean_y))\n",
    "            print(\"std_y {}:\".format(self.std_y))\n",
    "            \n",
    "            self.data_y = (self.data_y - self.mean_y) / self.std_y\n",
    "\n",
    "        self.data_x = (self.data_x - self.mean) / self.std\n",
    "        self.x_dim = data_x.shape[-1]\n",
    "\n",
    "    def __len__(self):\n",
    "        return self.data_x.shape[0]\n",
    "\n",
    "    def __getitem__(self, idx):\n",
    "        return self.data_x[idx], self.data_y[idx]"
   ]
  },
  {
   "cell_type": "code",
   "execution_count": 47,
   "metadata": {},
   "outputs": [
    {
     "name": "stdout",
     "output_type": "stream",
     "text": [
      "mean_y tensor([[1.3325]]):\n",
      "std_y tensor([[0.6245]]):\n",
      "mean_y tensor([[1.3447]]):\n",
      "std_y tensor([[0.6481]]):\n",
      "mean_y tensor([[1.3447]]):\n",
      "std_y tensor([[0.6481]]):\n"
     ]
    }
   ],
   "source": [
    "# Define dataset and dataset loader\n",
    "Dataset = GDP_Dataset# dataset_list[args.dataset]\n",
    "total_data = Dataset().total_data\n",
    "permutation = torch.randperm(total_data)\n",
    "\n",
    "train_dataset_ = Dataset(train=True, random_permute=False, permutation=permutation)\n",
    "test_dataset_ = Dataset(train=False, random_permute=False, permutation=permutation) # could have overlapping\n",
    "# train_dataset_[:][1].mean()"
   ]
  },
  {
   "cell_type": "code",
   "execution_count": null,
   "metadata": {},
   "outputs": [],
   "source": []
  },
  {
   "cell_type": "code",
   "execution_count": null,
   "metadata": {},
   "outputs": [],
   "source": []
  },
  {
   "cell_type": "code",
   "execution_count": null,
   "metadata": {},
   "outputs": [],
   "source": []
  },
  {
   "cell_type": "code",
   "execution_count": null,
   "metadata": {},
   "outputs": [],
   "source": []
  }
 ],
 "metadata": {
  "kernelspec": {
   "display_name": "Python 3",
   "language": "python",
   "name": "python3"
  },
  "language_info": {
   "codemirror_mode": {
    "name": "ipython",
    "version": 3
   },
   "file_extension": ".py",
   "mimetype": "text/x-python",
   "name": "python",
   "nbconvert_exporter": "python",
   "pygments_lexer": "ipython3",
   "version": "3.7.4"
  }
 },
 "nbformat": 4,
 "nbformat_minor": 4
}
