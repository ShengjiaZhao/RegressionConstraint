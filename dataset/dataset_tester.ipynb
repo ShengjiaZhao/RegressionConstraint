{
 "cells": [
  {
   "cell_type": "code",
   "execution_count": 5,
   "metadata": {},
   "outputs": [],
   "source": [
    "import pandas as pd\n",
    "import numpy as np\n",
    "from matplotlib import pyplot as plt\n",
    "from torch.utils.tensorboard import SummaryWriter\n",
    "import torch\n",
    "import torch.nn as nn\n",
    "import torch.nn.functional as F\n",
    "import torch.optim as optim\n",
    "from torch.optim import lr_scheduler\n",
    "import torchvision\n",
    "from torchvision import datasets, models, transforms\n",
    "import os, sys, shutil, copy, time\n",
    "from torch.utils.data import Dataset, DataLoader\n",
    "from dataset import *"
   ]
  },
  {
   "cell_type": "code",
   "execution_count": 6,
   "metadata": {},
   "outputs": [
    {
     "data": {
      "image/png": "[encoded data removed]",
      "text/plain": [
       "<Figure size 432x288 with 1 Axes>"
      ]
     },
     "metadata": {
      "needs_background": "light"
     },
     "output_type": "display_data"
    }
   ],
   "source": [
    "dataset = ToyDataset()\n",
    "    \n",
    "x, y = dataset[:]\n",
    "\n",
    "plt.scatter(x.flatten(), y.flatten())\n",
    "plt.show()"
   ]
  },
  {
   "cell_type": "code",
   "execution_count": 7,
   "metadata": {},
   "outputs": [],
   "source": [
    "train = True\n",
    "df = pd.concat([pd.read_csv('CreditScore_train.csv'), pd.read_csv('CreditScore_test.csv')])\n"
   ]
  },
  {
   "cell_type": "code",
   "execution_count": 8,
   "metadata": {},
   "outputs": [
    {
     "data": {
      "text/plain": [
       "(100000, 305)"
      ]
     },
     "execution_count": 8,
     "metadata": {},
     "output_type": "execute_result"
    }
   ],
   "source": [
    "df.shape"
   ]
  },
  {
   "cell_type": "code",
   "execution_count": 9,
   "metadata": {},
   "outputs": [
    {
     "name": "stdout",
     "output_type": "stream",
     "text": [
      "(100000, 266)\n"
     ]
    }
   ],
   "source": [
    "#missing data\n",
    "\n",
    "percent = (df.isnull().sum() / df.isnull().count() * 100)\n",
    "m_per = percent[percent > 10]\n",
    "df = df.drop(columns=m_per.index, axis=1)\n",
    "\n",
    "for i in df.columns:\n",
    "    df[i].fillna(df[i].mean(), inplace=True)\n",
    "print(df.shape)"
   ]
  },
  {
   "cell_type": "code",
   "execution_count": 10,
   "metadata": {},
   "outputs": [
    {
     "data": {
      "text/html": [
       "<div>\n",
       "<style scoped>\n",
       "    .dataframe tbody tr th:only-of-type {\n",
       "        vertical-align: middle;\n",
       "    }\n",
       "\n",
       "    .dataframe tbody tr th {\n",
       "        vertical-align: top;\n",
       "    }\n",
       "\n",
       "    .dataframe thead th {\n",
       "        text-align: right;\n",
       "    }\n",
       "</style>\n",
       "<table border=\"1\" class=\"dataframe\">\n",
       "  <thead>\n",
       "    <tr style=\"text-align: right;\">\n",
       "      <th></th>\n",
       "      <th>x001</th>\n",
       "      <th>x005</th>\n",
       "      <th>x006</th>\n",
       "      <th>x007</th>\n",
       "      <th>x008</th>\n",
       "      <th>x009</th>\n",
       "      <th>x010</th>\n",
       "      <th>x011</th>\n",
       "      <th>x012</th>\n",
       "      <th>x013</th>\n",
       "      <th>...</th>\n",
       "      <th>x291</th>\n",
       "      <th>x292</th>\n",
       "      <th>x294</th>\n",
       "      <th>x296</th>\n",
       "      <th>x298</th>\n",
       "      <th>x299</th>\n",
       "      <th>x300</th>\n",
       "      <th>x301</th>\n",
       "      <th>x303</th>\n",
       "      <th>y</th>\n",
       "    </tr>\n",
       "  </thead>\n",
       "  <tbody>\n",
       "    <tr>\n",
       "      <th>count</th>\n",
       "      <td>1.000000e+05</td>\n",
       "      <td>100000.000000</td>\n",
       "      <td>100000.000000</td>\n",
       "      <td>100000.000000</td>\n",
       "      <td>100000.000000</td>\n",
       "      <td>100000.000000</td>\n",
       "      <td>100000.000000</td>\n",
       "      <td>100000.000000</td>\n",
       "      <td>100000.00000</td>\n",
       "      <td>100000.000000</td>\n",
       "      <td>...</td>\n",
       "      <td>1.000000e+05</td>\n",
       "      <td>1.000000e+05</td>\n",
       "      <td>1.000000e+05</td>\n",
       "      <td>1.000000e+05</td>\n",
       "      <td>100000.000000</td>\n",
       "      <td>100000.000000</td>\n",
       "      <td>100000.000000</td>\n",
       "      <td>100000.000000</td>\n",
       "      <td>100000.000000</td>\n",
       "      <td>100000.000000</td>\n",
       "    </tr>\n",
       "    <tr>\n",
       "      <th>mean</th>\n",
       "      <td>1.218244e+06</td>\n",
       "      <td>178.238545</td>\n",
       "      <td>0.314040</td>\n",
       "      <td>0.694000</td>\n",
       "      <td>1.388220</td>\n",
       "      <td>1.192980</td>\n",
       "      <td>1.026990</td>\n",
       "      <td>1.843240</td>\n",
       "      <td>1.60794</td>\n",
       "      <td>1.576860</td>\n",
       "      <td>...</td>\n",
       "      <td>1.461510e+04</td>\n",
       "      <td>5.839332e+04</td>\n",
       "      <td>2.795508e+03</td>\n",
       "      <td>1.181960e+04</td>\n",
       "      <td>0.543320</td>\n",
       "      <td>0.558030</td>\n",
       "      <td>0.581830</td>\n",
       "      <td>0.106240</td>\n",
       "      <td>6410.882910</td>\n",
       "      <td>619.198230</td>\n",
       "    </tr>\n",
       "    <tr>\n",
       "      <th>std</th>\n",
       "      <td>2.728977e+05</td>\n",
       "      <td>120.656530</td>\n",
       "      <td>0.464135</td>\n",
       "      <td>1.379378</td>\n",
       "      <td>2.282805</td>\n",
       "      <td>2.031083</td>\n",
       "      <td>1.713823</td>\n",
       "      <td>2.711524</td>\n",
       "      <td>2.58239</td>\n",
       "      <td>2.609533</td>\n",
       "      <td>...</td>\n",
       "      <td>3.771714e+04</td>\n",
       "      <td>1.645305e+05</td>\n",
       "      <td>1.751578e+04</td>\n",
       "      <td>3.226469e+04</td>\n",
       "      <td>0.498122</td>\n",
       "      <td>0.496624</td>\n",
       "      <td>0.493261</td>\n",
       "      <td>0.308146</td>\n",
       "      <td>24190.243313</td>\n",
       "      <td>118.461932</td>\n",
       "    </tr>\n",
       "    <tr>\n",
       "      <th>min</th>\n",
       "      <td>5.170000e+02</td>\n",
       "      <td>0.000000</td>\n",
       "      <td>0.000000</td>\n",
       "      <td>0.000000</td>\n",
       "      <td>0.000000</td>\n",
       "      <td>0.000000</td>\n",
       "      <td>0.000000</td>\n",
       "      <td>0.000000</td>\n",
       "      <td>0.00000</td>\n",
       "      <td>0.000000</td>\n",
       "      <td>...</td>\n",
       "      <td>0.000000e+00</td>\n",
       "      <td>0.000000e+00</td>\n",
       "      <td>0.000000e+00</td>\n",
       "      <td>0.000000e+00</td>\n",
       "      <td>0.000000</td>\n",
       "      <td>0.000000</td>\n",
       "      <td>0.000000</td>\n",
       "      <td>0.000000</td>\n",
       "      <td>0.000000</td>\n",
       "      <td>300.000000</td>\n",
       "    </tr>\n",
       "    <tr>\n",
       "      <th>25%</th>\n",
       "      <td>9.743635e+05</td>\n",
       "      <td>94.000000</td>\n",
       "      <td>0.000000</td>\n",
       "      <td>0.000000</td>\n",
       "      <td>0.000000</td>\n",
       "      <td>0.000000</td>\n",
       "      <td>0.000000</td>\n",
       "      <td>0.000000</td>\n",
       "      <td>0.00000</td>\n",
       "      <td>0.000000</td>\n",
       "      <td>...</td>\n",
       "      <td>0.000000e+00</td>\n",
       "      <td>0.000000e+00</td>\n",
       "      <td>0.000000e+00</td>\n",
       "      <td>0.000000e+00</td>\n",
       "      <td>0.000000</td>\n",
       "      <td>0.000000</td>\n",
       "      <td>0.000000</td>\n",
       "      <td>0.000000</td>\n",
       "      <td>0.000000</td>\n",
       "      <td>524.000000</td>\n",
       "    </tr>\n",
       "    <tr>\n",
       "      <th>50%</th>\n",
       "      <td>1.235926e+06</td>\n",
       "      <td>159.000000</td>\n",
       "      <td>0.000000</td>\n",
       "      <td>0.000000</td>\n",
       "      <td>1.000000</td>\n",
       "      <td>0.000000</td>\n",
       "      <td>0.000000</td>\n",
       "      <td>1.000000</td>\n",
       "      <td>1.00000</td>\n",
       "      <td>0.000000</td>\n",
       "      <td>...</td>\n",
       "      <td>0.000000e+00</td>\n",
       "      <td>4.758000e+03</td>\n",
       "      <td>0.000000e+00</td>\n",
       "      <td>0.000000e+00</td>\n",
       "      <td>1.000000</td>\n",
       "      <td>1.000000</td>\n",
       "      <td>1.000000</td>\n",
       "      <td>0.000000</td>\n",
       "      <td>0.000000</td>\n",
       "      <td>599.000000</td>\n",
       "    </tr>\n",
       "    <tr>\n",
       "      <th>75%</th>\n",
       "      <td>1.445326e+06</td>\n",
       "      <td>237.000000</td>\n",
       "      <td>1.000000</td>\n",
       "      <td>1.000000</td>\n",
       "      <td>2.000000</td>\n",
       "      <td>2.000000</td>\n",
       "      <td>1.000000</td>\n",
       "      <td>3.000000</td>\n",
       "      <td>2.00000</td>\n",
       "      <td>2.000000</td>\n",
       "      <td>...</td>\n",
       "      <td>1.712800e+04</td>\n",
       "      <td>4.333125e+04</td>\n",
       "      <td>0.000000e+00</td>\n",
       "      <td>1.295600e+04</td>\n",
       "      <td>1.000000</td>\n",
       "      <td>1.000000</td>\n",
       "      <td>1.000000</td>\n",
       "      <td>0.000000</td>\n",
       "      <td>0.000000</td>\n",
       "      <td>720.000000</td>\n",
       "    </tr>\n",
       "    <tr>\n",
       "      <th>max</th>\n",
       "      <td>1.677197e+06</td>\n",
       "      <td>827.000000</td>\n",
       "      <td>1.000000</td>\n",
       "      <td>44.000000</td>\n",
       "      <td>108.000000</td>\n",
       "      <td>81.000000</td>\n",
       "      <td>33.000000</td>\n",
       "      <td>44.000000</td>\n",
       "      <td>44.00000</td>\n",
       "      <td>42.000000</td>\n",
       "      <td>...</td>\n",
       "      <td>4.348891e+06</td>\n",
       "      <td>1.520793e+07</td>\n",
       "      <td>3.721366e+06</td>\n",
       "      <td>2.696702e+06</td>\n",
       "      <td>1.000000</td>\n",
       "      <td>1.000000</td>\n",
       "      <td>1.000000</td>\n",
       "      <td>1.000000</td>\n",
       "      <td>785537.000000</td>\n",
       "      <td>839.000000</td>\n",
       "    </tr>\n",
       "  </tbody>\n",
       "</table>\n",
       "<p>8 rows × 266 columns</p>\n",
       "</div>"
      ],
      "text/plain": [
       "               x001           x005           x006           x007  \\\n",
       "count  1.000000e+05  100000.000000  100000.000000  100000.000000   \n",
       "mean   1.218244e+06     178.238545       0.314040       0.694000   \n",
       "std    2.728977e+05     120.656530       0.464135       1.379378   \n",
       "min    5.170000e+02       0.000000       0.000000       0.000000   \n",
       "25%    9.743635e+05      94.000000       0.000000       0.000000   \n",
       "50%    1.235926e+06     159.000000       0.000000       0.000000   \n",
       "75%    1.445326e+06     237.000000       1.000000       1.000000   \n",
       "max    1.677197e+06     827.000000       1.000000      44.000000   \n",
       "\n",
       "                x008           x009           x010           x011  \\\n",
       "count  100000.000000  100000.000000  100000.000000  100000.000000   \n",
       "mean        1.388220       1.192980       1.026990       1.843240   \n",
       "std         2.282805       2.031083       1.713823       2.711524   \n",
       "min         0.000000       0.000000       0.000000       0.000000   \n",
       "25%         0.000000       0.000000       0.000000       0.000000   \n",
       "50%         1.000000       0.000000       0.000000       1.000000   \n",
       "75%         2.000000       2.000000       1.000000       3.000000   \n",
       "max       108.000000      81.000000      33.000000      44.000000   \n",
       "\n",
       "               x012           x013  ...          x291          x292  \\\n",
       "count  100000.00000  100000.000000  ...  1.000000e+05  1.000000e+05   \n",
       "mean        1.60794       1.576860  ...  1.461510e+04  5.839332e+04   \n",
       "std         2.58239       2.609533  ...  3.771714e+04  1.645305e+05   \n",
       "min         0.00000       0.000000  ...  0.000000e+00  0.000000e+00   \n",
       "25%         0.00000       0.000000  ...  0.000000e+00  0.000000e+00   \n",
       "50%         1.00000       0.000000  ...  0.000000e+00  4.758000e+03   \n",
       "75%         2.00000       2.000000  ...  1.712800e+04  4.333125e+04   \n",
       "max        44.00000      42.000000  ...  4.348891e+06  1.520793e+07   \n",
       "\n",
       "               x294          x296           x298           x299  \\\n",
       "count  1.000000e+05  1.000000e+05  100000.000000  100000.000000   \n",
       "mean   2.795508e+03  1.181960e+04       0.543320       0.558030   \n",
       "std    1.751578e+04  3.226469e+04       0.498122       0.496624   \n",
       "min    0.000000e+00  0.000000e+00       0.000000       0.000000   \n",
       "25%    0.000000e+00  0.000000e+00       0.000000       0.000000   \n",
       "50%    0.000000e+00  0.000000e+00       1.000000       1.000000   \n",
       "75%    0.000000e+00  1.295600e+04       1.000000       1.000000   \n",
       "max    3.721366e+06  2.696702e+06       1.000000       1.000000   \n",
       "\n",
       "                x300           x301           x303              y  \n",
       "count  100000.000000  100000.000000  100000.000000  100000.000000  \n",
       "mean        0.581830       0.106240    6410.882910     619.198230  \n",
       "std         0.493261       0.308146   24190.243313     118.461932  \n",
       "min         0.000000       0.000000       0.000000     300.000000  \n",
       "25%         0.000000       0.000000       0.000000     524.000000  \n",
       "50%         1.000000       0.000000       0.000000     599.000000  \n",
       "75%         1.000000       0.000000       0.000000     720.000000  \n",
       "max         1.000000       1.000000  785537.000000     839.000000  \n",
       "\n",
       "[8 rows x 266 columns]"
      ]
     },
     "execution_count": 10,
     "metadata": {},
     "output_type": "execute_result"
    }
   ],
   "source": [
    "df.describe()"
   ]
  },
  {
   "cell_type": "code",
   "execution_count": 11,
   "metadata": {},
   "outputs": [],
   "source": [
    "if train:\n",
    "    df = df.iloc[:80000]\n",
    "else:\n",
    "    df = df.iloc[80000:]\n"
   ]
  },
  {
   "cell_type": "code",
   "execution_count": 12,
   "metadata": {},
   "outputs": [],
   "source": [
    "x_data = df.drop(\"y\", axis=1).to_numpy()\n",
    "y_data = df[\"y\"].to_numpy()"
   ]
  },
  {
   "cell_type": "code",
   "execution_count": 20,
   "metadata": {},
   "outputs": [
    {
     "data": {
      "image/png": "[encoded data removed]",
      "text/plain": [
       "<Figure size 432x288 with 1 Axes>"
      ]
     },
     "metadata": {
      "needs_background": "light"
     },
     "output_type": "display_data"
    }
   ],
   "source": [
    "plt.hist(y_data, bins=30)\n",
    "plt.show()"
   ]
  },
  {
   "cell_type": "code",
   "execution_count": 13,
   "metadata": {},
   "outputs": [
    {
     "name": "stdout",
     "output_type": "stream",
     "text": [
      "(80000, 265) (80000,)\n"
     ]
    }
   ],
   "source": [
    "print(x_data.shape, y_data.shape)"
   ]
  },
  {
   "cell_type": "code",
   "execution_count": 19,
   "metadata": {},
   "outputs": [
    {
     "data": {
      "text/plain": [
       "array([[0.316725 , 0.9537625, 0.       , ..., 0.       , 0.       ,\n",
       "        0.       ],\n",
       "       [0.5584125, 0.502    , 0.6964875, ..., 0.754175 , 0.6283   ,\n",
       "        0.769825 ],\n",
       "       [0.795025 , 0.7537125, 0.656675 , ..., 0.3804625, 0.6282875,\n",
       "        0.770525 ],\n",
       "       ...,\n",
       "       [0.4231875, 0.416575 , 0.2716125, ..., 0.437275 , 0.314625 ,\n",
       "        0.30005  ],\n",
       "       [0.5813375, 0.9175125, 0.19915  , ..., 0.8595   , 0.1638625,\n",
       "        0.116075 ],\n",
       "       [0.0058625, 0.29575  , 0.4073375, ..., 0.9999875, 0.8210125,\n",
       "        0.954725 ]])"
      ]
     },
     "execution_count": 19,
     "metadata": {},
     "output_type": "execute_result"
    }
   ],
   "source": [
    "np.argsort(np.argsort(x_data, axis=0), axis=0) / x_data.shape[0]"
   ]
  },
  {
   "cell_type": "code",
   "execution_count": 2,
   "metadata": {},
   "outputs": [],
   "source": [
    "dataset = CreditDataset(train=True)"
   ]
  },
  {
   "cell_type": "code",
   "execution_count": 3,
   "metadata": {},
   "outputs": [
    {
     "name": "stdout",
     "output_type": "stream",
     "text": [
      "(array([[1.084094e+06, 4.260000e+02, 0.000000e+00, ..., 0.000000e+00,\n",
      "        0.000000e+00, 0.000000e+00],\n",
      "       [1.287777e+06, 1.600000e+02, 1.000000e+00, ..., 1.000000e+00,\n",
      "        0.000000e+00, 0.000000e+00],\n",
      "       [1.483016e+06, 2.390000e+02, 0.000000e+00, ..., 0.000000e+00,\n",
      "        0.000000e+00, 0.000000e+00],\n",
      "       ...,\n",
      "       [1.168324e+06, 1.350000e+02, 0.000000e+00, ..., 1.000000e+00,\n",
      "        0.000000e+00, 0.000000e+00],\n",
      "       [1.307105e+06, 3.660000e+02, 0.000000e+00, ..., 1.000000e+00,\n",
      "        0.000000e+00, 0.000000e+00],\n",
      "       [4.051600e+05, 1.090000e+02, 0.000000e+00, ..., 1.000000e+00,\n",
      "        0.000000e+00, 4.445100e+04]]), array([[807],\n",
      "       [819],\n",
      "       [803],\n",
      "       ...,\n",
      "       [711],\n",
      "       [684],\n",
      "       [465]]))\n"
     ]
    }
   ],
   "source": []
  },
  {
   "cell_type": "code",
   "execution_count": null,
   "metadata": {},
   "outputs": [],
   "source": []
  }
 ],
 "metadata": {
  "kernelspec": {
   "display_name": "Python 3",
   "language": "python",
   "name": "python3"
  },
  "language_info": {
   "codemirror_mode": {
    "name": "ipython",
    "version": 3
   },
   "file_extension": ".py",
   "mimetype": "text/x-python",
   "name": "python",
   "nbconvert_exporter": "python",
   "pygments_lexer": "ipython3",
   "version": "3.6.12"
  }
 },
 "nbformat": 4,
 "nbformat_minor": 4
}
