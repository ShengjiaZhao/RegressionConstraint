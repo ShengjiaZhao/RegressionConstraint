{
 "cells": [
  {
   "cell_type": "code",
   "execution_count": 1,
   "metadata": {},
   "outputs": [],
   "source": [
    "import numpy as np\n",
    "import torch\n",
    "import math\n",
    "import itertools\n",
    "import torch.optim as optim\n",
    "import torch.nn as nn\n",
    "import torch.nn.functional as F\n",
    "import matplotlib.pyplot as plt\n",
    "import torch.autograd as autograd\n",
    "\n",
    "import sklearn\n",
    "import sklearn.datasets\n",
    "from sklearn.utils import shuffle as util_shuffle\n",
    "\n",
    "import torchvision\n",
    "from torchvision.datasets import CIFAR10, MNIST, FashionMNIST, ImageFolder\n",
    "import torchvision.transforms as transforms\n",
    "from torch.utils.data import DataLoader, Subset\n",
    "\n",
    "import os\n",
    "import pdb"
   ]
  },
  {
   "cell_type": "code",
   "execution_count": 2,
   "metadata": {},
   "outputs": [],
   "source": [
    "device = \"cuda\""
   ]
  },
  {
   "cell_type": "code",
   "execution_count": 3,
   "metadata": {},
   "outputs": [],
   "source": [
    "class naf_flow(nn.Module):\n",
    "    def __init__(self, feature_size=20):\n",
    "        super(naf_flow, self).__init__()\n",
    "        self.feature_size = feature_size\n",
    "        self.log_a = nn.Parameter(\n",
    "            torch.randn(feature_size, 1) * 5\n",
    "        )\n",
    "        self.b = nn.Parameter(\n",
    "            torch.randn(feature_size, 1)\n",
    "        )\n",
    "        self.logit_w = nn.Parameter(\n",
    "            torch.randn(1, feature_size)\n",
    "        )\n",
    "        self.activation = F.sigmoid\n",
    "        self.inverse_activation = self.logit\n",
    "\n",
    "    def logit(self, x):\n",
    "        return torch.log(x) - torch.log1p(-x)\n",
    "\n",
    "    def forward(self, x):\n",
    "        a = torch.exp(self.log_a) #(d, 1)\n",
    "        w = self.logit_w - self.logit_w.permute(1, 0)\n",
    "        w = -torch.logsumexp(w, 1, keepdim=True)\n",
    "        w = torch.exp(w)\n",
    "        # print(w.max(), w.min(), w.sum())\n",
    "        # check size (d, 1)\n",
    "\n",
    "        y = a.unsqueeze(dim=0) * x.reshape(x.shape[0], -1, 1) + self.b.unsqueeze(dim=0) # (batch, d, 1)\n",
    "        y = self.activation(y)\n",
    "        jacobian = a.unsqueeze(dim=0) * y * (1-y)\n",
    "        w = w.permute(1, 0) #(1, d)\n",
    "        y = torch.matmul(w.unsqueeze(dim=0), y)\n",
    "        jacobian = torch.matmul(w.unsqueeze(dim=0), jacobian) * (1./y + 1./ (1-y))\n",
    "        y = y.reshape(y.shape[0], 1)\n",
    "        jacobian = jacobian.reshape(y.shape[0], 1)\n",
    "        log_det = torch.log(jacobian)\n",
    "        y = self.inverse_activation(y)\n",
    "        return y, log_det # (batch, 1)\n",
    "\n",
    "    def invert(self, y, left=-10., right=10., stop_gap=1e-5, tolerance=100):\n",
    "        step = 0\n",
    "        left = torch.ones_like(y) * left\n",
    "        right = torch.ones_like(y) * right\n",
    "        with torch.no_grad():\n",
    "            gap = (right - left).max()\n",
    "            while gap > stop_gap and step < tolerance:\n",
    "                mid = (right + left) / 2.\n",
    "                # right_val, _ = self.forward(right)\n",
    "                # left_val, _ = self.forward(left)\n",
    "                mid_val, _ = self.forward(mid)\n",
    "                # if mid_val < y:\n",
    "                left = mid * torch.ones_like(mid) * (mid_val < y).float() + left * (1. - torch.ones_like(mid) * (mid_val < y).float())\n",
    "                right = mid * torch.ones_like(mid) * (mid_val >= y).float() + right * (1. - torch.ones_like(mid) * (mid_val >= y).float())\n",
    "                # else:\n",
    "                    # right = mid\n",
    "                step += 1\n",
    "                gap = (right - left).max()\n",
    "            if gap <= stop_gap:\n",
    "                return mid\n",
    "            else:\n",
    "                print(\"no inverse found\")\n",
    "\n",
    "\n",
    "class deeper_flow(nn.Module):\n",
    "    def __init__(self, layer_num=5, feature_size=20):\n",
    "        super(deeper_flow, self).__init__()\n",
    "        self.layer_num = layer_num\n",
    "        self.feature_size = feature_size\n",
    "\n",
    "        self.model =  nn.ModuleList([naf_flow(feature_size=feature_size) for i in range(layer_num)])\n",
    "\n",
    "    def forward(self, x):\n",
    "        log_det = 0.\n",
    "        for layer in self.model:\n",
    "            x, log_det_x = layer(x)\n",
    "            log_det = log_det + log_det_x\n",
    "        return x, log_det\n",
    "\n",
    "    def invert(self, y):\n",
    "        for layer in reversed(self.model):\n",
    "            y = layer.invert(y)\n",
    "        return y"
   ]
  },
  {
   "cell_type": "code",
   "execution_count": 4,
   "metadata": {},
   "outputs": [],
   "source": [
    "def mle_loss(z, log_det, mean=True):\n",
    "    prior_ll = -0.5 * (z ** 2 + np.log(2 * np.pi))\n",
    "    prior_ll = prior_ll.view(z.size(0), -1).sum(-1)\n",
    "    ll = prior_ll + log_det\n",
    "    if mean:\n",
    "        nll = -ll.mean()\n",
    "    else:\n",
    "        nll = -ll\n",
    "    return nll"
   ]
  },
  {
   "cell_type": "code",
   "execution_count": 8,
   "metadata": {},
   "outputs": [
    {
     "data": {
      "text/plain": [
       "torch.Size([10000, 1])"
      ]
     },
     "execution_count": 8,
     "metadata": {},
     "output_type": "execute_result"
    },
    {
     "data": {
      "image/png": "[encoded data removed]",
      "text/plain": [
       "<Figure size 432x288 with 1 Axes>"
      ]
     },
     "metadata": {
      "needs_background": "light"
     },
     "output_type": "display_data"
    }
   ],
   "source": [
    "def double_gaussian(sigma1=1.6, mu1=-3., sigma2=0.5, mu2=3., c1=0.3, c2=0.7, num=10000):\n",
    "    p1 = int(c1 * num)\n",
    "    p2 = num - p1\n",
    "    samples1 = torch.randn(p1, 1) * sigma1 + mu1\n",
    "    samples2 = torch.randn(p2, 1) * sigma2 + mu2\n",
    "    samples = torch.cat([samples1, samples2], dim=0)\n",
    "    samples = samples[torch.randperm(samples.shape[0])]\n",
    "    return samples\n",
    "\n",
    "samples = double_gaussian(num=10000)\n",
    "plots = plt.hist(samples[:,0], bins=\"auto\", density=True)\n",
    "plt.title(\"Data distribution\")\n",
    "samples.shape"
   ]
  },
  {
   "cell_type": "code",
   "execution_count": 9,
   "metadata": {},
   "outputs": [],
   "source": [
    "# model = naf_flow(feature_size=200).to(device)\n",
    "clean_model = deeper_flow(layer_num=5, feature_size=20).to(device)\n",
    "optimizer = optim.Adam(clean_model.parameters(), lr=1e-2)"
   ]
  },
  {
   "cell_type": "code",
   "execution_count": null,
   "metadata": {},
   "outputs": [],
   "source": [
    "epoch = 5000\n",
    "for e in range(epoch):\n",
    "    x = double_gaussian(num=100).to(device)\n",
    "    z, log_det = clean_model(x)\n",
    "    loss = mle_loss(z, log_det)\n",
    "\n",
    "    optimizer.zero_grad()\n",
    "    loss.backward()\n",
    "    optimizer.step()\n",
    "\n",
    "    if e % 500 == 0:\n",
    "        print(\"epoch {} loss {}\".format(e, loss))"
   ]
  },
  {
   "cell_type": "code",
   "execution_count": 11,
   "metadata": {},
   "outputs": [
    {
     "data": {
      "text/plain": [
       "<matplotlib.legend.Legend at 0x7f7239ed27d0>"
      ]
     },
     "execution_count": 11,
     "metadata": {},
     "output_type": "execute_result"
    },
    {
     "data": {
      "image/png": "[encoded data removed]",
      "text/plain": [
       "<Figure size 432x288 with 1 Axes>"
      ]
     },
     "metadata": {
      "needs_background": "light"
     },
     "output_type": "display_data"
    }
   ],
   "source": [
    "clean_samples = clean_model.invert(torch.randn(10000, 1).to(device)).data.cpu().squeeze()\n",
    "_ = plt.hist(clean_samples, bins=100, density=True, alpha=0.5, color=\"c\", label=\"model samples\")\n",
    "data = double_gaussian(num=10000)\n",
    "plots = plt.hist(data[:,0], bins=100, density=True, alpha=0.5, color=\"orange\", label=\"data samples\")\n",
    "plt.legend(fontsize=20)"
   ]
  },
  {
   "cell_type": "code",
   "execution_count": 23,
   "metadata": {},
   "outputs": [
    {
     "data": {
      "image/png": "[encoded data removed]",
      "text/plain": [
       "<Figure size 432x288 with 1 Axes>"
      ]
     },
     "metadata": {
      "needs_background": "light"
     },
     "output_type": "display_data"
    }
   ],
   "source": [
    "with torch.no_grad():\n",
    "    x = torch.linspace(-10, 10, 1000)\n",
    "    x = x.reshape(-1, 1).to(device)\n",
    "    y = clean_model(x)[0]\n",
    "    plt.xlabel(\"x\", fontsize=20)\n",
    "    plt.ylabel(\"g(x)\", fontsize=20)\n",
    "    plt.title(\"Learned monotonic transform\", fontsize=20)\n",
    "    plt.plot(x.squeeze().cpu(), y.squeeze().cpu())"
   ]
  },
  {
   "cell_type": "code",
   "execution_count": null,
   "metadata": {},
   "outputs": [],
   "source": []
  },
  {
   "cell_type": "code",
   "execution_count": null,
   "metadata": {},
   "outputs": [],
   "source": []
  }
 ],
 "metadata": {
  "kernelspec": {
   "display_name": "Python 3",
   "language": "python",
   "name": "python3"
  },
  "language_info": {
   "codemirror_mode": {
    "name": "ipython",
    "version": 3
   },
   "file_extension": ".py",
   "mimetype": "text/x-python",
   "name": "python",
   "nbconvert_exporter": "python",
   "pygments_lexer": "ipython3",
   "version": "3.7.4"
  }
 },
 "nbformat": 4,
 "nbformat_minor": 4
}
